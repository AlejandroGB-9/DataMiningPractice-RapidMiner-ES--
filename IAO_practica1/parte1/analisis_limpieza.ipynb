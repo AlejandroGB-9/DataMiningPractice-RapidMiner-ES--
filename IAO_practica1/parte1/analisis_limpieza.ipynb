{
 "cells": [
  {
   "cell_type": "markdown",
   "metadata": {},
   "source": [
    "# Requisitos para la trata de datos"
   ]
  },
  {
   "cell_type": "code",
   "execution_count": null,
   "metadata": {},
   "outputs": [],
   "source": [
    "!pip3 install numpy\n",
    "!pip3 install pandas\n",
    "#!pip3 install matplotlib\n",
    "#!pip3 install seaborn"
   ]
  },
  {
   "cell_type": "code",
   "execution_count": 1,
   "metadata": {},
   "outputs": [],
   "source": [
    "import numpy as np\n",
    "import pandas as pd\n",
    "#import matplotlib as mpl\n",
    "#import matplotlib.pyplot as plt\n",
    "#%matplotlib inline\n",
    "#import seaborn as sns"
   ]
  },
  {
   "cell_type": "code",
   "execution_count": 2,
   "metadata": {},
   "outputs": [
    {
     "name": "stderr",
     "output_type": "stream",
     "text": [
      "C:\\Users\\aalex\\AppData\\Local\\Temp\\ipykernel_11224\\986689702.py:12: FutureWarning: The default value of regex will change from True to False in a future version.\n",
      "  datos_rq['Country/Region'] = datos_rq['Country/Region'].str.replace(r'\\s*\\([^)]*\\)\\s*', '')\n"
     ]
    }
   ],
   "source": [
    "datos = pd.read_csv('data_ia.csv')\n",
    "\n",
    "#Drop de las columnas y datos que son innecesarios\n",
    "#datos_rq = datos.drop(['Province/State','Lat','Long'], axis=1)\n",
    "datos_rq = datos.sort_values(by=['Country/Region'])\n",
    "index1 = datos_rq.index[datos_rq['Country/Region'] == 'Winter Olympics 2022'].tolist()\n",
    "index2 = datos_rq.index[datos_rq['Country/Region'] == 'Summer Olympics 2020'].tolist()\n",
    "discard = index1 + index2\n",
    "datos_rq.drop(discard, axis=0, inplace=True)\n",
    "\n",
    "#JUNTAR LOS PAISES QUE SEAN CONGO EN UNO SOLO\n",
    "datos_rq['Country/Region'] = datos_rq['Country/Region'].str.replace(r'\\s*\\([^)]*\\)\\s*', '')\n",
    "\n",
    "#Quitar duplicados y sumarlos en uno solo\n",
    "unique_countries = datos_rq.drop_duplicates(subset=['Country/Region'])\n",
    "datos_rq_sum = datos_rq.groupby('Country/Region').sum()\n",
    "\n",
    "#seleccion de paises para modelo y predicciones\n",
    "datos_rq_selc = datos_rq_sum.loc[['Spain','Portugal','France','Italy','Germany','Greece','Belgium']]\n",
    "\n",
    "#seleccion de paises para dias consecutivos\n",
    "ejemplo_pais = datos_rq_sum.loc[['Spain','Italy']]\n",
    "ejemplo_pais2 = ejemplo_pais.transpose()\n",
    "\n",
    "#CSV's\n",
    "datos_rq_sum.to_csv('datos_ia_sum.csv')\n",
    "datos_rq_selc.to_csv('datos_paises.csv')\n",
    "ejemplo_pais.to_csv('data_spain_italy.csv')\n",
    "ejemplo_pais2.to_csv('data_spain_italy2.csv')\n"
   ]
  },
  {
   "cell_type": "code",
   "execution_count": null,
   "metadata": {},
   "outputs": [],
   "source": []
  }
 ],
 "metadata": {
  "kernelspec": {
   "display_name": "Python 3",
   "language": "python",
   "name": "python3"
  },
  "language_info": {
   "codemirror_mode": {
    "name": "ipython",
    "version": 3
   },
   "file_extension": ".py",
   "mimetype": "text/x-python",
   "name": "python",
   "nbconvert_exporter": "python",
   "pygments_lexer": "ipython3",
   "version": "3.10.11"
  },
  "orig_nbformat": 4
 },
 "nbformat": 4,
 "nbformat_minor": 2
}
